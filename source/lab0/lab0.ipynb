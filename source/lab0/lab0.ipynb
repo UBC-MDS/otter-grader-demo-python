{
 "cells": [
  {
   "cell_type": "raw",
   "metadata": {
    "tags": []
   },
   "source": [
    "# ASSIGNMENT CONFIG\n",
    "requirements: requirements.txt\n",
    "generate: true"
   ]
  },
  {
   "cell_type": "markdown",
   "metadata": {},
   "source": [
    "# Lab 0: Introduction to MDS homework and practice with Jupyter Notebooks"
   ]
  },
  {
   "cell_type": "markdown",
   "metadata": {},
   "source": [
    "In Lab 0, you will learn how to navigate a Jupyter Notebook (like this one). You should follow the instructions in the notebook to complete the assignment.\r\n",
    "\r\n",
    "### Submission Instructions\r\n",
    "\r\n",
    "- [Follow the submission instruction on Canvas](https://canvas.ubc.ca/courses/53662/assignments/635976)"
   ]
  },
  {
   "cell_type": "markdown",
   "metadata": {},
   "source": [
    "## 1. Jupyter notebooks\n",
    "This webpage is called a Jupyter notebook. A notebook is a place to write programs and view their results.\n",
    "\n",
    "### 1.1. Text cells\n",
    "In a notebook, each rectangle containing text or code is called a *cell*.\n",
    "\n",
    "Text cells (like this one) can be edited by double-clicking on them. They're written in a simple format called [Markdown](http://daringfireball.net/projects/markdown/syntax) to add formatting and section headings.  You will learn more about Markdown as you go through MDS and you will use it often! \n",
    "\n",
    "After you edit a text cell, select the \"run cell\" button at the top that looks like ▶ to confirm any changes."
   ]
  },
  {
   "cell_type": "markdown",
   "metadata": {},
   "source": [
    "### Question 1.1.1.\r\n",
    "\r\n",
    "This paragraph is in its own text cell.  Try editing it so that **this** sentence is the last sentence in the paragraph, and then select the \"run cell\" ▶ button on the top.  This sentence, for example, should be deleted.  So should this one."
   ]
  },
  {
   "cell_type": "markdown",
   "metadata": {},
   "source": [
    "Now try running the code in the cells below, again using the \"run cell\" ▶ button."
   ]
  },
  {
   "cell_type": "code",
   "execution_count": null,
   "metadata": {},
   "outputs": [],
   "source": [
    "print(\"Hello, World!\")"
   ]
  },
  {
   "cell_type": "markdown",
   "metadata": {},
   "source": [
    "You can also run cells using the keyboard shortcuts `Shift+Enter`. Try using that keyboard shortcut to run the cell below: "
   ]
  },
  {
   "cell_type": "code",
   "execution_count": null,
   "metadata": {},
   "outputs": [],
   "source": [
    "print(\"\\N{WAVING HAND SIGN}\")"
   ]
  },
  {
   "cell_type": "markdown",
   "metadata": {},
   "source": [
    "You can also print many emojis by pasting them directly."
   ]
  },
  {
   "cell_type": "code",
   "execution_count": null,
   "metadata": {},
   "outputs": [],
   "source": [
    "print(\"👋\")"
   ]
  },
  {
   "cell_type": "markdown",
   "metadata": {},
   "source": [
    "The fundamental building block of Python code is an expression. Cells can contain multiple lines with multiple expressions. When you run a cell, the lines of code are executed in the order in which they appear. Every `print` expression prints a line. Run the next cell and notice the order of the output."
   ]
  },
  {
   "cell_type": "code",
   "execution_count": null,
   "metadata": {},
   "outputs": [],
   "source": [
    "print(\"First this line is printed,\")\r\n",
    "print(\"then this one,\")"
   ]
  },
  {
   "cell_type": "markdown",
   "metadata": {},
   "source": [
    "### Question 1.1.2.\r\n",
    "\r\n",
    "\r\n",
    "Change the cell below by replacing the following codpressions above."
   ]
  },
  {
   "cell_type": "raw",
   "metadata": {},
   "source": [
    "..."
   ]
  },
  {
   "cell_type": "markdown",
   "metadata": {},
   "source": [
    "with another `print` expression so that it prints out:\n",
    "\n",
    "    First this line is printed,        \n",
    "    then this one,\n",
    "    and then the whole 🌏.\n",
    "\n",
    "*Hint:* If you're stuck on how to print the Earth symbol, try looking at the print expressions above."
   ]
  },
  {
   "cell_type": "code",
   "execution_count": null,
   "metadata": {},
   "outputs": [],
   "source": [
    "print(\"First this line is printed,\")\r\n",
    "print(\"then this one,\")print(\"and then the whole \\N{EARTH GLOBE ASIA-AUSTRALIA}.\") # SOLUTIONN\r\n"
   ]
  },
  {
   "cell_type": "markdown",
   "metadata": {},
   "source": [
    "### 1.2. Comments\n",
    "You may have noticed this line in the cell above:\n",
    "\n",
    "```\n",
    "# your code here\n",
    "```\n",
    "\n",
    "That is called a comment. It doesn't make anything happen in Python; Python ignores anything on a line after a `#`. Instead, it's there to communicate something about the code to you, the human reader. Comments are extremely useful. Comments also exist in R and use the same `#` symbol.\n",
    "\n",
    "![](https://imgs.xkcd.com/comics/future_self.png)\n",
    "\n",
    "*source: https://xkcd.com/1421/*\n"
   ]
  },
  {
   "cell_type": "markdown",
   "metadata": {},
   "source": [
    "### 1.3. Writing Jupyter notebooks\r\n",
    "You can use Jupyter notebooks for your own projects or documents. They are among the world's most popular programming environments for data science. When you make your own notebook, you'll need to create your own cells for text and code.\r\n",
    "\r\n",
    "To add a cell, select the + button in the menu bar.  You can change between code cell and text cell by selecting the cell so that it's highlighted, then selecting the drop-down box next to the restart (⟳) button in the menu bar, and choosing Code instead of Markdown.\r\n",
    "\r\n",
    "### Question 1.3.1.\r\n",
    "rubric={correctness:1}\r\n",
    "\r\n",
    "Add a code cell below this one.  Write code in it that prints out:\r\n",
    "   \r\n",
    "    A whole new cell! \r\n",
    "    ♪🌏♪\r\n",
    "\r\n",
    "(That musical note symbol is like the Earth symbol.  Its long-form name is `\\N{EIGHTH NOTE}`.)\r\n",
    "\r\n",
    "Run your cell to verify that it works.\r\n",
    "\r\n"
   ]
  },
  {
   "cell_type": "markdown",
   "metadata": {},
   "source": [
    "### 1.4. Errors\r\n",
    "Python is a language, and like natural human languages, it has rules.  It differs from natural language in two important ways:\r\n",
    "1. The rules are *simple*.  You can learn most of them in a few weeks and gain reasonable proficiency with the language in a semester.\r\n",
    "2. The rules are *rigid*.  If you're proficient in a natural language, you can understand a non-proficient speaker, glossing over small mistakes.  A computer running Python code is not smart enough to do that.\r\n",
    "\r\n",
    "Whenever you write code, you'll make mistakes.  When you run a code cell that has errors, Python will sometimes produce error messages to tell you what you did wrong.\r\n",
    "\r\n",
    "Errors are okay; even experienced programmers make **many** errors.  When you make an error, you just have to find the source of the problem, fix it, and move on.\r\n",
    "\r\n",
    "We have made an error in the next cell.  Run it and see what happens."
   ]
  },
  {
   "cell_type": "code",
   "execution_count": null,
   "metadata": {},
   "outputs": [],
   "source": [
    "print(\"This line is missing something.\""
   ]
  },
  {
   "cell_type": "markdown",
   "metadata": {},
   "source": [
    "You should see something like this (minus our annotations):\n",
    "\n",
    "![](imgs/error.jpg)\n",
    "\n",
    "The last line of the error output attempts to tell you what went wrong.  The *syntax* of a language is its structure, and this `SyntaxError` tells you that you have created an illegal structure.  \"`EOF`\" means \"end of file,\" so the message is saying Python expected you to write something more (in this case, a right parenthesis) before finishing the cell.\n",
    "\n",
    "There's a lot of terminology in programming languages. You'll learn as you go. If you are ever having trouble understanding an error message, search the discussion forum. If you don't find an answer, post a question about the error yourself.\n",
    "\n",
    "Try to fix the code above so that you can run the cell and see the intended message instead of an error."
   ]
  },
  {
   "cell_type": "markdown",
   "metadata": {},
   "source": [
    "### 1.5. The Kernel\n",
    "The kernel is a program that executes the code inside your notebook and outputs the results. In the top right of your window, you can see a circle that indicates the status of your kernel. If the circle is empty (⚪), the kernel is idle and ready to execute code. If the circle is filled in (⚫), the kernel is busy running some code. \n",
    "\n",
    "You may run into problems where your kernel is stuck for an excessive amount of time, your notebook is very slow and unresponsive, or your kernel loses its connection. If this happens, try the following steps:\n",
    "1. At the top of your screen, select **Kernel**, then **Interrupt**.\n",
    "2. If that doesn't help, select **Kernel**, then **Restart**. If you do this, you will have to run your code cells from the start of your notebook up until where you paused your work.\n",
    "3. If that doesn't help, restart your server. But first, save your work by selecting **File** at the top left of your screen, then **Save**."
   ]
  },
  {
   "cell_type": "markdown",
   "metadata": {},
   "source": [
    "Jupyter can run many different kernels, meaning that you can run a Python kernel to use Python inside a Jupyter notebook AND you can also run a R kernel to use R inside a Jupyter notebook. When you are inside a Jupyter notebook the name of the kernel can be found beside the circle that tells you what your kernel is doing (⚪). This notebook is using the Python 3 kernel. "
   ]
  },
  {
   "cell_type": "markdown",
   "metadata": {},
   "source": [
    "### 1.6. Autograded questions\n",
    "\n",
    "Many assignments in MDS will be distributed as notebooks like this one. At the top of each assignment, you'll see a cell like the one below that imports the code needed to run the autograder tests. Run it to import the autograder tests.\n",
    "\n"
   ]
  },
  {
   "cell_type": "code",
   "execution_count": 3,
   "metadata": {},
   "outputs": [],
   "source": [
    "# Don't change this cell, just run it\n",
    "# Import code needed for autograder tests\n",
    "import otter\n",
    "grader = otter.Notebook()\n",
    "from hashlib import sha1"
   ]
  },
  {
   "cell_type": "markdown",
   "metadata": {},
   "source": [
    "Autograded questions start off like some of the questions you have seen above, where you have to change and replace the code that looks like this:"
   ]
  },
  {
   "cell_type": "raw",
   "metadata": {},
   "source": [
    "..."
   ]
  },
  {
   "cell_type": "markdown",
   "metadata": {},
   "source": [
    "\n",
    "In addition to this, with the autograded questions you can also run the tests to check if your answer is correct. You can run the tests as many times as you would like. If you see \"success!\" printed after running the autograding test cells that means your answer was correct. MDS labs will be a mix of manually graded and autograded questions.\r\n",
    "\r\n",
    "Let's try our first autograded question below:\r\n",
    "\r\n",
    "### Question 1.6.1\r\n",
    "\r\n",
    "\r\n",
    "\r\n",
    "In Python you can assign a value to an object using the equals sign, for example:\r\n",
    "\r\n",
    "`x = 5`\r\n",
    "\r\n",
    "creates an object named x that holds the value 5. \r\n",
    "\r\n",
    "In the cell below, create another object named y and assign it the value 10."
   ]
  },
  {
   "cell_type": "raw",
   "metadata": {},
   "source": [
    "# BEGIN QUESTION\n",
    "name: q3\n",
    "points: 1"
   ]
  },
  {
   "cell_type": "raw",
   "metadata": {},
   "source": [
    "# BEGIN SOLUTION"
   ]
  },
  {
   "cell_type": "code",
   "execution_count": 4,
   "metadata": {},
   "outputs": [
    {
     "name": "stdout",
     "output_type": "stream",
     "text": [
      "10\n"
     ]
    }
   ],
   "source": [
    "# create object named y with a value of 10\n",
    "# BEGIN SOLUTION\n",
    "y = 10\n",
    "# END SOLUTION\n",
    "print(y)"
   ]
  },
  {
   "cell_type": "raw",
   "metadata": {},
   "source": [
    "# END SOLUTION"
   ]
  },
  {
   "cell_type": "raw",
   "metadata": {},
   "source": [
    "# BEGIN TESTS"
   ]
  },
  {
   "cell_type": "code",
   "execution_count": 6,
   "metadata": {},
   "outputs": [
    {
     "name": "stdout",
     "output_type": "stream",
     "text": [
      "success!\n"
     ]
    }
   ],
   "source": [
    "# run this cell to check your answer in the cell above\n",
    "assert sha1(str(y).encode('utf8')).hexdigest() == 'b1d5781111d84f7b3fe45a0852e59758cd7a87e5', \"y should have the value of 10.\"\n",
    "print(\"success!\")"
   ]
  },
  {
   "cell_type": "raw",
   "metadata": {},
   "source": [
    "# END TESTS"
   ]
  },
  {
   "cell_type": "raw",
   "metadata": {},
   "source": [
    "# END QUESTION"
   ]
  },
  {
   "cell_type": "markdown",
   "metadata": {},
   "source": [
    "### Attribution\n",
    "\n",
    "- [Data 8: The Foundations of Data Science](http://data8.org/), specifically Lab 01\n",
    "- [Software Carpentry](https://software-carpentry.org/), specifically the Unix Shell and Git lessons"
   ]
  }
 ],
 "metadata": {
  "celltoolbar": "Create Assignment",
  "interpreter": {
   "hash": "b319716b0346eb12085fd5197d37942b2372f733afdc46387bcecfaa2bd21dfe"
  },
  "kernelspec": {
   "display_name": "Python 3",
   "language": "python",
   "name": "python3"
  },
  "language_info": {
   "codemirror_mode": {
    "name": "ipython",
    "version": 3
   },
   "file_extension": ".py",
   "mimetype": "text/x-python",
   "name": "python",
   "nbconvert_exporter": "python",
   "pygments_lexer": "ipython3",
   "version": "3.9.1"
  }
 },
 "nbformat": 4,
 "nbformat_minor": 4
}
